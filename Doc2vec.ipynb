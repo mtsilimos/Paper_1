{
 "cells": [
  {
   "cell_type": "code",
   "execution_count": null,
   "id": "8a75ef67",
   "metadata": {},
   "outputs": [],
   "source": [
    "import pandas as pd\n",
    "df = pd.read_csv(r'C:\\Users\\mtsil\\OneDrive\\Documents\\finalcorpus.csv', ';', encoding= 'unicode_escape') #call newdf as df1\n",
    "df.head()"
   ]
  },
  {
   "cell_type": "code",
   "execution_count": null,
   "id": "1e069523",
   "metadata": {},
   "outputs": [],
   "source": [
    "df['label'].value_counts()"
   ]
  },
  {
   "cell_type": "code",
   "execution_count": null,
   "id": "8c7f00d9",
   "metadata": {},
   "outputs": [],
   "source": [
    "def clean_text(text):\n",
    "    text = text.lower()  \n",
    "    \n",
    "    text = \" \".join(text.split())\n",
    "    return text\n",
    "\n",
    "\n",
    "df['clean']= df['text'].map(clean_text)\n",
    "\n",
    "df"
   ]
  },
  {
   "cell_type": "code",
   "execution_count": null,
   "id": "30e124e3",
   "metadata": {},
   "outputs": [],
   "source": [
    "df['text_clean'] = df['clean'].str.replace(r'[^\\w\\s]+', '')\n",
    "df"
   ]
  },
  {
   "cell_type": "code",
   "execution_count": null,
   "id": "aad7c8da",
   "metadata": {},
   "outputs": [],
   "source": [
    "import contractions\n",
    "df['cleaned'] = df['text_clean'].apply(lambda x: contractions.fix(x))\n",
    "df"
   ]
  },
  {
   "cell_type": "code",
   "execution_count": null,
   "id": "538013bb",
   "metadata": {},
   "outputs": [],
   "source": [
    "df.to_csv(r'C:\\Users\\mtsil\\OneDrive\\Documents\\cleaneddoc.csv', ';') "
   ]
  },
  {
   "cell_type": "code",
   "execution_count": null,
   "id": "8c89e905",
   "metadata": {},
   "outputs": [],
   "source": [
    "df1 = pd.read_csv(r'C:\\Users\\mtsil\\OneDrive\\Documents\\cleaneddoc.csv', ';', encoding= 'unicode_escape') #call newdf as df1\n",
    "df1.head()"
   ]
  },
  {
   "cell_type": "code",
   "execution_count": null,
   "id": "cbb66629",
   "metadata": {},
   "outputs": [],
   "source": [
    "df1['label'].value_counts()"
   ]
  },
  {
   "cell_type": "code",
   "execution_count": null,
   "id": "09cde728",
   "metadata": {},
   "outputs": [],
   "source": [
    "from gensim.models.doc2vec import Doc2Vec, TaggedDocument\n",
    "from nltk.tokenize import word_tokenize\n",
    "from sklearn.model_selection import train_test_split\n",
    "train, test = train_test_split (df1, test_size=.20, random_state=42)\n",
    "\n",
    "tagged_tr = [TaggedDocument(words=word_tokenize(_d.lower()),\n",
    "tags=[str(i)]) for i, _d in enumerate(train.text)]\n",
    "\n",
    "tagged_test = [TaggedDocument(words=word_tokenize(_d.lower()),\n",
    "tags=[str(i)]) for i, _d in enumerate(test.text)]"
   ]
  },
  {
   "cell_type": "code",
   "execution_count": null,
   "id": "c10ff3e9",
   "metadata": {},
   "outputs": [],
   "source": [
    "model = Doc2Vec(vector_size=300,\n",
    "                window=5, \n",
    "                alpha=.025, \n",
    "                min_alpha=0.00025, \n",
    "                min_count=2, \n",
    "                dm=0, \n",
    "                workers=8,\n",
    "               negative = 10)\n",
    "model.build_vocab(tagged_tr)"
   ]
  },
  {
   "cell_type": "code",
   "execution_count": null,
   "id": "9c0a7584",
   "metadata": {},
   "outputs": [],
   "source": [
    "epochs = range(20)\n",
    "for epoch in epochs:\n",
    "    print(f'Epoch {epoch+1}')\n",
    "    model.train(tagged_tr,\n",
    "                total_examples=model.corpus_count,\n",
    "                epochs=model.epochs)\n",
    "    \n",
    "    model.alpha -= 0.00025\n",
    "    \n",
    "    model.min_alpha = model.alpha"
   ]
  },
  {
   "cell_type": "code",
   "execution_count": null,
   "id": "4364c302",
   "metadata": {},
   "outputs": [],
   "source": [
    "import numpy as np\n",
    "X_train = np.array([model.dv[str(i)] for i in range(len(tagged_tr))])\n",
    "y_train = train['label']"
   ]
  },
  {
   "cell_type": "code",
   "execution_count": null,
   "id": "69ee8530",
   "metadata": {},
   "outputs": [],
   "source": [
    "X_test = np.array([model.infer_vector(tagged_test[i][0]) for i in range(len(tagged_test))])\n",
    "y_test = test['label']"
   ]
  },
  {
   "cell_type": "code",
   "execution_count": null,
   "id": "68994a07",
   "metadata": {},
   "outputs": [],
   "source": [
    "from sklearn.naive_bayes import BernoulliNB\n",
    "\n",
    "model = BernoulliNB()\n",
    "model.fit(X_train, y_train)\n",
    "y_pred = model.predict(X_test)"
   ]
  },
  {
   "cell_type": "code",
   "execution_count": null,
   "id": "88647289",
   "metadata": {},
   "outputs": [],
   "source": [
    "from sklearn.metrics import confusion_matrix,classification_report\n",
    "cm  = confusion_matrix(y_test, y_pred)\n",
    "cm"
   ]
  },
  {
   "cell_type": "code",
   "execution_count": null,
   "id": "30cb61e6",
   "metadata": {},
   "outputs": [],
   "source": [
    "print(classification_report(y_test,y_pred))"
   ]
  }
 ],
 "metadata": {
  "kernelspec": {
   "display_name": "Python 3 (ipykernel)",
   "language": "python",
   "name": "python3"
  },
  "language_info": {
   "codemirror_mode": {
    "name": "ipython",
    "version": 3
   },
   "file_extension": ".py",
   "mimetype": "text/x-python",
   "name": "python",
   "nbconvert_exporter": "python",
   "pygments_lexer": "ipython3",
   "version": "3.7.3"
  }
 },
 "nbformat": 4,
 "nbformat_minor": 5
}
